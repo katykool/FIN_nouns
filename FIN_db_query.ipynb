{
 "cells": [
  {
   "cell_type": "markdown",
   "metadata": {},
   "source": [
    "# Как искать в базе"
   ]
  },
  {
   "cell_type": "markdown",
   "metadata": {},
   "source": [
    "* `lemma`. Введи лемму. Можно использовать регулярные выражения.\n",
    "\n",
    "* `declencion_type`. Введи тип склонения. Можно использовать регулярные выражения.\n",
    "\n",
    "* `gradation`. Введи тип лениции. Можно использовать регулярные выражения.\n",
    "\n",
    "В следующих двух полях ты можешь задать существование какой-нибудь одной формы. Запрос к базе звучит так: выбери такие существительные, где форма сущ. {грамматические тэги} -- это {форма}.\n",
    "Например: сущ. с тэгами NPOSS_NOM_SG = koira. Форму можно вводить, используя регулярные выражения, например, так: `tags = \"NPOSS_NOM_SG\"; form = \".*?ra\"`\n",
    "\n",
    "* `tags`. Грамматические тэги см. в gram_tags.txt. \n",
    "\n",
    "* `form`. Форма с заданным грамматическим значением. Можно использовать регулярные выражения (советую ограничиться . и .* -- остальное с большой вероятностью сломается)"
   ]
  },
  {
   "cell_type": "markdown",
   "metadata": {},
   "source": [
    "##### Пожалуйста, не оставляй строки пустыми. Если ты не хочешь искать по этому параметру, введи `.*`"
   ]
  },
  {
   "cell_type": "code",
   "execution_count": 44,
   "metadata": {},
   "outputs": [],
   "source": [
    "lemma = \".*\" \n",
    "declencion_type = \"10\\*L.*\" \n",
    "gradation = \".*\" \n",
    "\n",
    "tags = \"NPOSS_NOM_SG\" \n",
    "form = \"yl.*\" "
   ]
  },
  {
   "cell_type": "markdown",
   "metadata": {},
   "source": [
    "## Пример. \n",
    "Запрос: \n",
    "\n",
    "`lemma = \".*\"`\n",
    "\n",
    "`declencion_type = \"10\\*L.*\"` (да, не забудь экранировать те звездочки, которые нужно экранировать!)\n",
    "\n",
    "`gradation = \".*\"`\n",
    "\n",
    "`tags = \"NPOSS_NOM_SG\"`\n",
    "\n",
    "`form = \"yl.*\"`"
   ]
  },
  {
   "cell_type": "markdown",
   "metadata": {},
   "source": [
    "Выдача: \n",
    "\n",
    "<div>\n",
    "<style scoped>\n",
    "    .dataframe tbody tr th:only-of-type {\n",
    "        vertical-align: middle;\n",
    "    }\n",
    "\n",
    "    .dataframe tbody tr th {\n",
    "        vertical-align: top;\n",
    "    }\n",
    "\n",
    "    .dataframe thead th {\n",
    "        text-align: right;\n",
    "    }\n",
    "</style>\n",
    "<table border=\"1\" class=\"dataframe\">\n",
    "  <thead>\n",
    "    <tr style=\"text-align: right;\">\n",
    "      <th></th>\n",
    "      <th>id</th>\n",
    "      <th>word</th>\n",
    "      <th>declencion_type</th>\n",
    "      <th>gradation</th>\n",
    "      <th>forms</th>\n",
    "    </tr>\n",
    "  </thead>\n",
    "  <tbody>\n",
    "    <tr>\n",
    "      <th>0</th>\n",
    "      <td>16404</td>\n",
    "      <td>ylkä</td>\n",
    "      <td>10*L/koira</td>\n",
    "      <td>k-j gradation</td>\n",
    "      <td>{\"NPOSS_class\": \"k-j gradation\", \"NPOSS_NOM_SG...</td>\n",
    "    </tr>\n",
    "  </tbody>\n",
    "</table>\n",
    "</div>\n"
   ]
  },
  {
   "cell_type": "markdown",
   "metadata": {},
   "source": [
    "#### Не забудь запустить ячейку с полями. Если уже -- запускай ячейку ниже."
   ]
  },
  {
   "cell_type": "code",
   "execution_count": 45,
   "metadata": {},
   "outputs": [
    {
     "name": "stdout",
     "output_type": "stream",
     "text": [
      "Поиск начался, жди :)\n",
      "Готово! Открой результат в ячейке ниже.\n"
     ]
    }
   ],
   "source": [
    "import sqlite3\n",
    "import pandas as pd\n",
    "\n",
    "like_form = form.replace('.*', '%').replace('.', '_')\n",
    "path_tags = '$.'+tags\n",
    "\n",
    "print('Поиск начался, жди :)')\n",
    "conn = sqlite3.connect('FIN_nouns.db')\n",
    "cursor = conn.cursor()\n",
    "\n",
    "import sqlite3\n",
    "import re\n",
    "\n",
    "def regexp(expr, item):\n",
    "    reg = re.compile(expr)\n",
    "    return reg.search(item) is not None\n",
    "\n",
    "conn.create_function(\"REGEXP\", 2, regexp)\n",
    "\n",
    "q = \"\"\"SELECT * FROM data \n",
    "WHERE word REGEXP ?\n",
    "  AND declencion_type REGEXP ?\n",
    "  AND gradation REGEXP ?\n",
    "  AND JSON_EXTRACT(forms, ?) LIKE ?;\"\"\"\n",
    "\n",
    "cursor.execute(q, (lemma, declencion_type, gradation, path_tags, like_form)) \n",
    "results = cursor.fetchall()\n",
    "\n",
    "# Преобразование в DataFrame\n",
    "df = pd.DataFrame(results, columns=[desc[0] for desc in cursor.description])\n",
    "\n",
    "# Вывод DataFrame\n",
    "print('Готово! Открой результат в ячейке ниже.')\n",
    "\n",
    "conn.close()"
   ]
  },
  {
   "cell_type": "code",
   "execution_count": 46,
   "metadata": {},
   "outputs": [
    {
     "data": {
      "text/html": [
       "<div>\n",
       "<style scoped>\n",
       "    .dataframe tbody tr th:only-of-type {\n",
       "        vertical-align: middle;\n",
       "    }\n",
       "\n",
       "    .dataframe tbody tr th {\n",
       "        vertical-align: top;\n",
       "    }\n",
       "\n",
       "    .dataframe thead th {\n",
       "        text-align: right;\n",
       "    }\n",
       "</style>\n",
       "<table border=\"1\" class=\"dataframe\">\n",
       "  <thead>\n",
       "    <tr style=\"text-align: right;\">\n",
       "      <th></th>\n",
       "      <th>id</th>\n",
       "      <th>word</th>\n",
       "      <th>declencion_type</th>\n",
       "      <th>gradation</th>\n",
       "      <th>forms</th>\n",
       "    </tr>\n",
       "  </thead>\n",
       "  <tbody>\n",
       "    <tr>\n",
       "      <th>0</th>\n",
       "      <td>16404</td>\n",
       "      <td>ylkä</td>\n",
       "      <td>10*L/koira</td>\n",
       "      <td>k-j gradation</td>\n",
       "      <td>{\"NPOSS_class\": \"k-j gradation\", \"NPOSS_NOM_SG...</td>\n",
       "    </tr>\n",
       "  </tbody>\n",
       "</table>\n",
       "</div>"
      ],
      "text/plain": [
       "      id  word declencion_type      gradation  \\\n",
       "0  16404  ylkä      10*L/koira  k-j gradation   \n",
       "\n",
       "                                               forms  \n",
       "0  {\"NPOSS_class\": \"k-j gradation\", \"NPOSS_NOM_SG...  "
      ]
     },
     "execution_count": 46,
     "metadata": {},
     "output_type": "execute_result"
    }
   ],
   "source": [
    "df"
   ]
  }
 ],
 "metadata": {
  "kernelspec": {
   "display_name": "Python 3",
   "language": "python",
   "name": "python3"
  },
  "language_info": {
   "codemirror_mode": {
    "name": "ipython",
    "version": 3
   },
   "file_extension": ".py",
   "mimetype": "text/x-python",
   "name": "python",
   "nbconvert_exporter": "python",
   "pygments_lexer": "ipython3",
   "version": "3.10.5"
  }
 },
 "nbformat": 4,
 "nbformat_minor": 2
}
